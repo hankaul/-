{
 "cells": [
  {
   "cell_type": "code",
   "execution_count": 18,
   "id": "d1ece329-7799-4efc-a14c-46cd6705713d",
   "metadata": {},
   "outputs": [],
   "source": [
    "import pandas as pd\n",
    "from sklearn import datasets\n",
    "from sklearn.model_selection import train_test_split\n",
    "import numpy as np"
   ]
  },
  {
   "cell_type": "code",
   "execution_count": 37,
   "id": "fb28084d-24d2-4602-9aba-a37d04ea09e5",
   "metadata": {},
   "outputs": [],
   "source": [
    "iris = datasets.load_iris()"
   ]
  },
  {
   "cell_type": "code",
   "execution_count": 38,
   "id": "9fd4b02b-f9d4-4a89-82c0-598affe617f3",
   "metadata": {},
   "outputs": [],
   "source": [
    "df_iris = pd.DataFrame(iris['data'], columns= iris['feature_names']) # 생성\n",
    "df_iris['target']=iris['target'] # 타겟데이터 합치기"
   ]
  },
  {
   "cell_type": "code",
   "execution_count": 39,
   "id": "31d0b4c4-7d00-473a-ba44-2e2181321ea8",
   "metadata": {},
   "outputs": [],
   "source": [
    "x_train,x_valid,y_train,y_valid = train_test_split(df_iris.iloc[:,:-1],df_iris['target'],\n",
    "                                                   stratify=df_iris['target'])"
   ]
  },
  {
   "cell_type": "code",
   "execution_count": 40,
   "id": "2a372945-638c-467c-8ddf-d4fb45dfa564",
   "metadata": {},
   "outputs": [],
   "source": [
    "from sklearn.linear_model import LogisticRegression"
   ]
  },
  {
   "cell_type": "code",
   "execution_count": 41,
   "id": "32e2d866-3872-44a3-901f-9c42e012c071",
   "metadata": {},
   "outputs": [],
   "source": [
    "model= LogisticRegression()"
   ]
  },
  {
   "cell_type": "code",
   "execution_count": 42,
   "id": "63c87024-11a4-43f2-88b8-f97643e36a9e",
   "metadata": {},
   "outputs": [
    {
     "data": {
      "text/plain": [
       "LogisticRegression()"
      ]
     },
     "execution_count": 42,
     "metadata": {},
     "output_type": "execute_result"
    }
   ],
   "source": [
    "model.fit(x_train,y_train)"
   ]
  },
  {
   "cell_type": "code",
   "execution_count": 43,
   "id": "26af9ca8-a56b-4765-9b05-449e422bbe75",
   "metadata": {},
   "outputs": [
    {
     "data": {
      "text/plain": [
       "array([0, 1, 1, 1, 1, 0, 0, 1, 0, 1, 2, 2, 1, 0, 1, 1, 2, 2, 1, 0, 2, 2,\n",
       "       1, 2, 2, 0, 1, 0, 0, 0, 0, 2, 2, 0, 2, 1, 0, 2])"
      ]
     },
     "execution_count": 43,
     "metadata": {},
     "output_type": "execute_result"
    }
   ],
   "source": [
    "model.predict(x_valid)"
   ]
  },
  {
   "cell_type": "code",
   "execution_count": 44,
   "id": "27f62ea5-2ce6-4a0d-b99f-98cdaab64e56",
   "metadata": {},
   "outputs": [],
   "source": [
    "y_pred = model.predict_proba(x_valid)"
   ]
  },
  {
   "cell_type": "code",
   "execution_count": 45,
   "id": "2f42743e-a4fd-421d-80da-0a969da98c15",
   "metadata": {},
   "outputs": [
    {
     "data": {
      "text/plain": [
       "0.0"
      ]
     },
     "execution_count": 45,
     "metadata": {},
     "output_type": "execute_result"
    }
   ],
   "source": [
    "(y_pred == y_valid).mean()"
   ]
  },
  {
   "cell_type": "code",
   "execution_count": 46,
   "id": "fda533c0-6a30-4dc0-a5c0-32e3d33b5732",
   "metadata": {},
   "outputs": [],
   "source": [
    "from sklearn.linear_model import SGDRegressor"
   ]
  },
  {
   "cell_type": "code",
   "execution_count": 47,
   "id": "2d0bb8c5-d408-4252-aba8-743f49d697af",
   "metadata": {},
   "outputs": [],
   "source": [
    "model = SGDClassifier()"
   ]
  },
  {
   "cell_type": "code",
   "execution_count": 48,
   "id": "0825ca6a-fb48-4d19-9c57-a8c483849369",
   "metadata": {},
   "outputs": [
    {
     "data": {
      "text/plain": [
       "SGDClassifier()"
      ]
     },
     "execution_count": 48,
     "metadata": {},
     "output_type": "execute_result"
    }
   ],
   "source": [
    "model.fit(x_train,y_train)"
   ]
  },
  {
   "cell_type": "code",
   "execution_count": 49,
   "id": "16676498-d7ac-473a-be83-266a6c584c9d",
   "metadata": {},
   "outputs": [
    {
     "data": {
      "text/plain": [
       "array([0, 1, 1, 1, 1, 0, 0, 1, 0, 1, 2, 2, 1, 0, 1, 1, 2, 2, 1, 0, 2, 2,\n",
       "       1, 2, 2, 0, 1, 0, 0, 0, 0, 2, 2, 0, 2, 1, 0, 2])"
      ]
     },
     "execution_count": 49,
     "metadata": {},
     "output_type": "execute_result"
    }
   ],
   "source": [
    "model.predict(x_valid)"
   ]
  },
  {
   "cell_type": "code",
   "execution_count": 50,
   "id": "858ef953-dec6-4b7a-ae4a-d3ee6bbad2c7",
   "metadata": {},
   "outputs": [],
   "source": [
    "sgd= SGDClassifier(penalty='elasticnet',random_state=0, n_jobs=-1)"
   ]
  },
  {
   "cell_type": "code",
   "execution_count": null,
   "id": "a3c93e60-f526-4256-858c-718f00597944",
   "metadata": {},
   "outputs": [],
   "source": []
  }
 ],
 "metadata": {
  "kernelspec": {
   "display_name": "Python 3 (ipykernel)",
   "language": "python",
   "name": "python3"
  },
  "language_info": {
   "codemirror_mode": {
    "name": "ipython",
    "version": 3
   },
   "file_extension": ".py",
   "mimetype": "text/x-python",
   "name": "python",
   "nbconvert_exporter": "python",
   "pygments_lexer": "ipython3",
   "version": "3.9.7"
  },
  "widgets": {
   "application/vnd.jupyter.widget-state+json": {
    "state": {},
    "version_major": 2,
    "version_minor": 0
   }
  }
 },
 "nbformat": 4,
 "nbformat_minor": 5
}
